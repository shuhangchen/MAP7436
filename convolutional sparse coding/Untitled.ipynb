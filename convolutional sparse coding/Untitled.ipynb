{
 "cells": [
  {
   "cell_type": "code",
   "execution_count": 1,
   "metadata": {
    "collapsed": true
   },
   "outputs": [],
   "source": [
    "matio = require 'matio'"
   ]
  },
  {
   "cell_type": "code",
   "execution_count": 2,
   "metadata": {
    "collapsed": true
   },
   "outputs": [],
   "source": [
    "d = matio.load('ConvDict.mat')"
   ]
  },
  {
   "cell_type": "code",
   "execution_count": 3,
   "metadata": {
    "collapsed": false
   },
   "outputs": [
    {
     "data": {
      "text/plain": [
       "{\n",
       "  ConvDict : \n",
       "    {\n",
       "      Dict : \n",
       "        {\n",
       "          1 : FloatTensor - size: 8x8x32\n",
       "          2 : FloatTensor - size: 8x8x64\n",
       "          3 : FloatTensor - size: 8x8x96\n",
       "          4 : FloatTensor - size: 8x8x128\n",
       "          5 : FloatTensor - size: 12x12x36\n",
       "          6 : FloatTensor - size: 12x12x64\n",
       "          7 : FloatTensor - size: 12x12x72\n",
       "          8 : FloatTensor - size: 12x12x108\n",
       "          9 : FloatTensor - size: 12x12x144\n",
       "          10 : FloatTensor - size: 12x12x180\n",
       "          11 : FloatTensor - size: 12x12x216\n",
       "          12 : FloatTensor - size: 16x16x96\n",
       "        }\n",
       "      Label : \n",
       "        {\n",
       "          1 : CharTensor - size: 1x6\n",
       "          2 : CharTensor - size: 1x6\n",
       "          3 : CharTensor - size: 1x6\n",
       "          4 : CharTensor - size: 1x7\n",
       "          5 : CharTensor - size: 1x8\n",
       "          6 : CharTensor - size: 1x8\n",
       "          7 : CharTensor - size: 1x8\n",
       "          8 : CharTensor - size: 1x9\n",
       "          9 : CharTensor - size: 1x9\n",
       "          10 : CharTensor - size: 1x9\n",
       "          11 : CharTensor - size: 1x9\n",
       "          12 : CharTensor - size: 1x24\n",
       "        }\n",
       "    }\n",
       "}\n"
      ]
     },
     "execution_count": 3,
     "metadata": {},
     "output_type": "execute_result"
    }
   ],
   "source": [
    "d"
   ]
  },
  {
   "cell_type": "code",
   "execution_count": 9,
   "metadata": {
    "collapsed": false
   },
   "outputs": [
    {
     "data": {
      "text/plain": [
       "  56  120   56  120   51   50\n",
       "[torch.CharTensor of size 1x6]\n",
       "\n"
      ]
     },
     "execution_count": 9,
     "metadata": {},
     "output_type": "execute_result"
    }
   ],
   "source": [
    "d.ConvDict.Label[1]"
   ]
  },
  {
   "cell_type": "code",
   "execution_count": 1,
   "metadata": {
    "collapsed": false
   },
   "outputs": [
    {
     "data": {
      "text/plain": [
       "{\n",
       "  yuv2rgb : function: 0x09c7c400\n",
       "  savePNG : function: 0x09c8a0b8\n",
       "  savePGM : function: 0x09c89fb0\n",
       "  hflip : function: 0x09cbdc88\n",
       "  fabio : function: 0x09c7c3b8\n",
       "  translate : function: 0x09c72068\n",
       "  supported_filetypes : \n",
       "    {\n",
       "      pgm : \n",
       "        {\n",
       "          loader : function: 0x09c89f68\n",
       "          saver : function: 0x09c89fb0\n",
       "        }\n",
       "      JPEG : \n",
       "        {\n",
       "          loader : function: 0x09c8a160\n",
       "          saver : function: 0x0980f3c8\n",
       "        }\n",
       "      JPG : \n",
       "        {\n",
       "          loader : function: 0x09c8a160\n",
       "          saver : function: 0x0980f3c8\n",
       "        }\n",
       "      jpg : \n",
       "        {\n",
       "          loader : function: 0x09c8a160\n",
       "          saver : function: 0x0980f3c8\n",
       "        }\n",
       "      png : \n",
       "        {\n",
       "          loader : function: 0x09c8a030\n",
       "          saver : function: 0x09c8a0b8\n",
       "        }\n",
       "      ppm : \n",
       "        {\n",
       "          loader : function: 0x09c89f68\n",
       "          saver : function: 0x09c89f90\n",
       "        }\n",
       "      jpeg : \n",
       "        {\n",
       "          loader : function: 0x09c8a160\n",
       "          saver : function: 0x0980f3c8\n",
       "        }\n",
       "      PNG : \n",
       "        {\n",
       "          loader : function: 0x09c8a030\n",
       "          saver : function: 0x09c8a0b8\n",
       "        }\n",
       "      PGM : \n",
       "        {\n",
       "          loader : function: 0x09c89f68\n",
       "          saver : function: 0x09c89fb0\n",
       "        }\n",
       "      PPM : \n",
       "        {\n",
       "          loader : function: 0x09c89f68\n",
       "          saver : function: 0x09c89f90\n",
       "        }"
      ]
     },
     "execution_count": 1,
     "metadata": {},
     "output_type": "execute_result"
    },
    {
     "data": {
      "text/plain": [
       "\n",
       "    }\n",
       "  getPNGsize : function: 0x09c8a120\n",
       "  float : \n",
       "    {\n",
       "      scaleBicubic : function: 0x09ccacb8\n",
       "      rotate : function: 0x09ccad48\n",
       "      text : function: 0x09c55e18\n",
       "      scaleBilinear : function: 0x09cc9a30\n",
       "      rotateBilinear : function: 0x09cc99f8\n",
       "      translate : function: 0x097e0e98\n",
       "      drawRect : function: 0x09c55e40\n",
       "      lab2rgb : function: 0x09800438\n",
       "      colorize : function: 0x09c55df0\n",
       "      polar : function: 0x09ccace0\n",
       "      saturate : function: 0x097d33a0\n",
       "      logPolar : function: 0x097e0e48\n",
       "      hflip : function: 0x09c55da0\n",
       "      cropNoScale : function: 0x097e0ec0\n",
       "      vflip : function: 0x09800488\n",
       "      warp : function: 0x097e0ee8\n",
       "      hsv2rgb : function: 0x097d3440\n",
       "      rgb2lab : function: 0x09800410\n",
       "      rgb2hsl : function: 0x097d3418\n",
       "      hsl2rgb : function: 0x098003e8\n",
       "      gaussian : function: 0x09800460\n",
       "      rgb2hsv : function: 0x097d33f0\n",
       "      polarBilinear : function: 0x09ccad08\n",
       "      rgb2y : function: 0x097d33c8\n",
       "      logPolarBilinear : function: 0x097e0e70\n",
       "      scaleSimple : function: 0x09cc99d0\n",
       "      flip : function: 0x09c55dc8\n",
       "    }\n",
       "  erode : function: 0x09c7ab60\n",
       "  display : function: 0x09cbdd48\n",
       "  vflip : function: 0x09cbdca8\n",
       "  lcn : function: 0x09c7ab40\n",
       "  hsv2rgb : function: 0x09c7c4a0\n",
       "  getJPGsize : function: 0x09c89f28\n",
       "  test : function: 0x09c9ac28\n",
       "  jetColormap : function: 0x09c7ab20\n",
       "  warp : function: 0x09cbdc48\n",
       "  rotate : function: 0x09cbdbe8\n",
       "  minmax : function: 0x09cbdd08\n",
       "  loadJPG : function: 0x09c8a160\n",
       "  loadPPM : function: 0x09c89f68\n",
       "  gaussian : function: 0x09c7c580\n",
       "  convolve : function: 0x09cbdce8\n",
       "  rgb2yuv : function: 0x09c7c3e0\n",
       "  laplacian : function: 0x09c7c5c0\n",
       "  window : function: 0x09c7c330\n",
       "  gaussian1D : function: 0x09c7c5a0\n",
       "  gaussianpyramid : function: 0x09c7c5e0\n",
       "  rgb2nrgb : function: 0x09c7c500\n",
       "  loadPNG : function: 0x09c8a030\n",
       "  double : \n",
       "    {\n",
       "      scaleBicubic : function: 0x09caa5f0\n",
       "      rotate : function: 0x09c9ba00\n",
       "      text : function: 0x09cc7bf0\n",
       "      scaleBilinear : function: 0x09caa5c8\n",
       "      rotateBilinear : function: 0x09c9ba28\n",
       "      translate : function: 0x09cc5c48\n",
       "      drawRect : function: 0x09cc7c18\n",
       "      lab2rgb : function: 0x09cbd8e0\n",
       "      colorize : function: 0x09cc7bc8\n",
       "      polar : function: 0x09caa618\n",
       "      saturate : function: 0x09cc5cc0\n",
       "      logPolar : function: 0x09caa668\n",
       "      hflip : function: 0x09cbd958\n",
       "      cropNoScale : function: 0x09cc5c70\n",
       "      vflip : function: 0x09cbd930\n",
       "      warp : function: 0x09cc5c98\n",
       "      hsv2rgb : function: 0x09cad370\n",
       "      rgb2lab : function: 0x09cbd8b8\n",
       "      rgb2hsl : function: 0x09cad348\n",
       "      hsl2rgb : function: 0x09cad398\n",
       "      gaussian : function: 0x09cbd908\n",
       "      rgb2hsv : function: 0x09cad320\n",
       "      polarBilinear : function: 0x09caa640\n",
       "      rgb2y : function: 0x09cad2f8\n",
       "      logPolarBilinear : function: 0x09cc5c20\n",
       "      scaleSimple : function: 0x09c9b9d8\n",
       "      flip : function: 0x09cc7ba0\n",
       "    }\n",
       "  hsl2rgb : function: 0x09c7c460\n",
       "  decompressPNG : function: 0x09c8a0f8\n",
       "  savePPM : function: 0x09c89f90\n",
       "  compressJPG : function: 0x09c89f48\n",
       "  y2jet : function: 0x09c7c520\n",
       "  decompress : function: 0x09c89ec0\n",
       "  drawRect : function: 0x09c7c560\n",
       "  rgb2lab : function: 0x09c7c4c0\n",
       "  lab2rgb : function: 0x09c7c4e0\n",
       "  save : function: 0x09c722e0\n",
       "  drawText : function: 0x09c7c540\n",
       "  rgb2hsl : function: 0x09c7c440\n",
       "  rgb2y : function: 0x09c7c420\n",
       "  load : function: 0x09c72250\n",
       "  toDisplayTensor : function: 0x09cbdd28\n",
       "  logpolar : function: 0x09cbdc28\n",
       "  crop : function: 0x09c72300\n",
       "  scale : function: 0x09c72088\n",
       "  dilate : function: 0x09c7ab80\n",
       "  is_supported : function: 0x09c89fd0\n",
       "  decompressJPG : function: 0x0980f3a0\n",
       "  saveJPG : function: 0x0980f3c8\n",
       "  byte : \n",
       "    {\n",
       "      scaleBicubic : function: 0x09c6b6c8\n",
       "      rotate : function: 0x09c6b758\n",
       "      text : function: 0x09730190\n",
       "      scaleBilinear : function: 0x097d3220\n",
       "      rotateBilinear : function: 0x097d31e8\n",
       "      translate : function: 0x09c6f348\n",
       "      drawRect : function: 0x097301b8\n",
       "      lab2rgb : function: 0x097303e8\n",
       "      colorize : function: 0x09730168\n",
       "      polar : function: 0x09c6b6f0\n",
       "      saturate : function: 0x09c79118\n",
       "      logPolar : function: 0x09"
      ]
     },
     "execution_count": 1,
     "metadata": {},
     "output_type": "execute_result"
    },
    {
     "data": {
      "text/plain": [
       "c6f2f8\n",
       "      hflip : function: 0x09730118\n",
       "      cropNoScale : function: 0x09c6f370\n",
       "      vflip : function: 0x09730438\n",
       "      warp : function: 0x09c6f398\n",
       "      hsv2rgb : function: 0x09c791b8\n",
       "      rgb2lab : function: 0x097303c0\n",
       "      rgb2hsl : function: 0x09c79190\n",
       "      hsl2rgb : function: 0x09730398\n",
       "      gaussian : function: 0x09730410\n",
       "      rgb2hsv : function: 0x09c79168\n",
       "      polarBilinear : function: 0x09c6b718\n",
       "      rgb2y : function: 0x09c79140\n",
       "      logPolarBilinear : function: 0x09c6f320\n",
       "      scaleSimple : function: 0x097d31c0\n",
       "      flip : function: 0x09730140\n",
       "    }\n",
       "  rgb2hsv : function: 0x09c7c480\n",
       "  polar : function: 0x09cbdc08\n",
       "  affinetransform : function: 0x09cbdc68\n",
       "  lena : function: 0x09c7c370\n",
       "  colormap : function: 0x09c7c600\n",
       "  flip : function: 0x09cbdcc8\n",
       "}\n"
      ]
     },
     "execution_count": 1,
     "metadata": {},
     "output_type": "execute_result"
    }
   ],
   "source": [
    "require 'image'"
   ]
  },
  {
   "cell_type": "code",
   "execution_count": 2,
   "metadata": {
    "collapsed": true
   },
   "outputs": [],
   "source": [
    "img = image.load('lena.png', 1)"
   ]
  },
  {
   "cell_type": "code",
   "execution_count": 3,
   "metadata": {
    "collapsed": false
   },
   "outputs": [
    {
     "data": {
      "text/plain": [
       " 512\n",
       " 512\n",
       "[torch.LongStorage of size 2]\n",
       "\n"
      ]
     },
     "execution_count": 3,
     "metadata": {},
     "output_type": "execute_result"
    }
   ],
   "source": [
    "img:size()"
   ]
  },
  {
   "cell_type": "code",
   "execution_count": 5,
   "metadata": {
    "collapsed": false
   },
   "outputs": [
    {
     "ename": "/Users/shuhang/torch/install/share/lua/5.1/image/init.lua:1486: module 'qt' not found:\n\tno field package.preload['qt']\n\tno file '/Users/shuhang/.luarocks/share/lua/5.1/qt.lua'\n\tno file '/Users/shuhang/.luarocks/share/lua/5.1/qt/init.lua'\n\tno file '/Users/shuhang/torch/install/share/lua/5.1/qt.lua'\n\tno file '/Users/shuhang/torch/install/share/lua/5.1/qt/init.lua'\n\tno file './qt.lua'\n\tno file '/Users/shuhang/torch/install/share/luajit-2.1.0-beta1/qt.lua'\n\tno file '/usr/local/share/lua/5.1/qt.lua'\n\tno file '/usr/local/share/lua/5.1/qt/init.lua'\n\tno file '/Users/shuhang/torch/install/lib/qt.dylib'\n\tno file '/Users/shuhang/.luarocks/lib/lua/5.1/qt.so'\n\tno file '/Users/shuhang/torch/install/lib/lua/5.1/qt.so'\n\tno file './qt.so'\n\tno file '/usr/local/lib/lua/5.1/qt.so'\n\tno file '/usr/local/lib/lua/5.1/loadall.so'\nstack traceback:\n\t[C]: in function 'require'\n\t/Users/shuhang/torch/install/share/lua/5.1/image/init.lua:1486: in function 'f'\n\t[string \"local f = function() return image.display(img...\"]:1: in main chunk\n\t[C]: in function 'xpcall'\n\t/Users/shuhang/torch/install/share/lua/5.1/itorch/main.lua:209: in function </Users/shuhang/torch/install/share/lua/5.1/itorch/main.lua:173>\n\t/Users/shuhang/torch/install/share/lua/5.1/lzmq/poller.lua:75: in function 'poll'\n\t...s/shuhang/torch/install/share/lua/5.1/lzmq/impl/loop.lua:307: in function 'poll'\n\t...s/shuhang/torch/install/share/lua/5.1/lzmq/impl/loop.lua:325: in function 'sleep_ex'\n\t...s/shuhang/torch/install/share/lua/5.1/lzmq/impl/loop.lua:370: in function 'start'\n\t/Users/shuhang/torch/install/share/lua/5.1/itorch/main.lua:381: in main chunk\n\t[C]: in function 'require'\n\t(command line):1: in main chunk\n\t[C]: at 0x01096e1d00",
     "evalue": "",
     "output_type": "error",
     "traceback": [
      "/Users/shuhang/torch/install/share/lua/5.1/image/init.lua:1486: module 'qt' not found:\n\tno field package.preload['qt']\n\tno file '/Users/shuhang/.luarocks/share/lua/5.1/qt.lua'\n\tno file '/Users/shuhang/.luarocks/share/lua/5.1/qt/init.lua'\n\tno file '/Users/shuhang/torch/install/share/lua/5.1/qt.lua'\n\tno file '/Users/shuhang/torch/install/share/lua/5.1/qt/init.lua'\n\tno file './qt.lua'\n\tno file '/Users/shuhang/torch/install/share/luajit-2.1.0-beta1/qt.lua'\n\tno file '/usr/local/share/lua/5.1/qt.lua'\n\tno file '/usr/local/share/lua/5.1/qt/init.lua'\n\tno file '/Users/shuhang/torch/install/lib/qt.dylib'\n\tno file '/Users/shuhang/.luarocks/lib/lua/5.1/qt.so'\n\tno file '/Users/shuhang/torch/install/lib/lua/5.1/qt.so'\n\tno file './qt.so'\n\tno file '/usr/local/lib/lua/5.1/qt.so'\n\tno file '/usr/local/lib/lua/5.1/loadall.so'\nstack traceback:\n\t[C]: in function 'require'\n\t/Users/shuhang/torch/install/share/lua/5.1/image/init.lua:1486: in function 'f'\n\t[string \"local f = function() return image.display(img...\"]:1: in main chunk\n\t[C]: in function 'xpcall'\n\t/Users/shuhang/torch/install/share/lua/5.1/itorch/main.lua:209: in function </Users/shuhang/torch/install/share/lua/5.1/itorch/main.lua:173>\n\t/Users/shuhang/torch/install/share/lua/5.1/lzmq/poller.lua:75: in function 'poll'\n\t...s/shuhang/torch/install/share/lua/5.1/lzmq/impl/loop.lua:307: in function 'poll'\n\t...s/shuhang/torch/install/share/lua/5.1/lzmq/impl/loop.lua:325: in function 'sleep_ex'\n\t...s/shuhang/torch/install/share/lua/5.1/lzmq/impl/loop.lua:370: in function 'start'\n\t/Users/shuhang/torch/install/share/lua/5.1/itorch/main.lua:381: in main chunk\n\t[C]: in function 'require'\n\t(command line):1: in main chunk\n\t[C]: at 0x01096e1d00"
     ]
    }
   ],
   "source": [
    "image.display(img)"
   ]
  },
  {
   "cell_type": "code",
   "execution_count": null,
   "metadata": {
    "collapsed": true
   },
   "outputs": [],
   "source": []
  }
 ],
 "metadata": {
  "anaconda-cloud": {},
  "kernelspec": {
   "display_name": "iTorch",
   "language": "lua",
   "name": "itorch"
  },
  "language_info": {
   "name": "lua",
   "version": "5.1"
  }
 },
 "nbformat": 4,
 "nbformat_minor": 0
}
